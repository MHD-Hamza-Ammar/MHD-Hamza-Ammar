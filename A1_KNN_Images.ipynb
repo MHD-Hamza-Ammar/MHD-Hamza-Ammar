{
  "cells": [
    {
      "cell_type": "markdown",
      "metadata": {
        "id": "view-in-github",
        "colab_type": "text"
      },
      "source": [
        "<a href=\"https://colab.research.google.com/github/MHD-Hamza-Ammar/MHD-Hamza-Ammar/blob/main/A1_KNN_Images.ipynb\" target=\"_parent\"><img src=\"https://colab.research.google.com/assets/colab-badge.svg\" alt=\"Open In Colab\"/></a>"
      ]
    },
    {
      "cell_type": "code",
      "execution_count": 1,
      "id": "0e2e4417",
      "metadata": {
        "id": "0e2e4417"
      },
      "outputs": [],
      "source": [
        "import pandas as pd\n",
        "import numpy as np\n",
        "import seaborn as sb\n",
        "from sklearn.neighbors import KNeighborsClassifier\n",
        "from sklearn.model_selection import train_test_split\n",
        "\n",
        "import cv2 \n",
        "import os\n",
        "from imutils import paths"
      ]
    },
    {
      "cell_type": "code",
      "source": [
        "from google.colab import drive\n",
        "drive.mount('/content/drive')"
      ],
      "metadata": {
        "colab": {
          "base_uri": "https://localhost:8080/"
        },
        "id": "8t1noxvU_Jyl",
        "outputId": "85decb18-6fdb-4d0f-d685-0040141a24de"
      },
      "id": "8t1noxvU_Jyl",
      "execution_count": 2,
      "outputs": [
        {
          "output_type": "stream",
          "name": "stdout",
          "text": [
            "Mounted at /content/drive\n"
          ]
        }
      ]
    },
    {
      "cell_type": "code",
      "execution_count": 4,
      "id": "55ec6523",
      "metadata": {
        "id": "55ec6523",
        "colab": {
          "base_uri": "https://localhost:8080/"
        },
        "outputId": "c314d328-3b9e-4ff9-b7b3-00c72471c745"
      },
      "outputs": [
        {
          "output_type": "stream",
          "name": "stdout",
          "text": [
            "['Abdullah', 'Abdullah', 'Abdullah', 'Abdullah', 'Aaron_Peirsol', 'Aaron_Peirsol', 'Aaron_Peirsol', 'Aaron_Peirsol', 'Hamza', 'Hamza', 'Hamza', 'Hamza', 'Hamza', 'Abel_Pacheco', 'Abel_Pacheco', 'Abel_Pacheco', 'Abel_Pacheco', 'Abdoulaye_Wade', 'Abdoulaye_Wade', 'Abdoulaye_Wade', 'Abdoulaye_Wade']\n"
          ]
        }
      ],
      "source": [
        "def imgmodifier(img, size=(32,32)):\n",
        "    img=cv2.resize(img,size)\n",
        "    pic=img.flatten()\n",
        "    return pic\n",
        "\n",
        "path=list(paths.list_images(\"/content/drive/MyDrive/AI Course - Raheem/Datasets/Faces Samples\"))\n",
        "img=[]\n",
        "label=[]\n",
        "\n",
        "for (i,imagp) in enumerate(path):\n",
        "    imge=cv2.imread(imagp)\n",
        "    lab=imagp.split(os.path.sep)[-2]\n",
        "    pixel=imgmodifier(imge)\n",
        "    img.append(pixel)\n",
        "    label.append(lab)\n",
        "print(label)"
      ]
    },
    {
      "cell_type": "code",
      "execution_count": 5,
      "id": "cf6a879a",
      "metadata": {
        "id": "cf6a879a"
      },
      "outputs": [],
      "source": [
        "x=np.array(img)\n",
        "y=np.array(label)"
      ]
    },
    {
      "cell_type": "code",
      "execution_count": 15,
      "id": "a8b62a4d",
      "metadata": {
        "id": "a8b62a4d"
      },
      "outputs": [],
      "source": [
        "xtrain,xtest,ytrain,ytest=train_test_split(x,y,test_size=0.2)"
      ]
    },
    {
      "cell_type": "code",
      "execution_count": 28,
      "id": "5712df5b",
      "metadata": {
        "id": "5712df5b"
      },
      "outputs": [],
      "source": [
        "model=KNeighborsClassifier(n_neighbors=2)"
      ]
    },
    {
      "cell_type": "code",
      "execution_count": 29,
      "id": "bd40ae50",
      "metadata": {
        "id": "bd40ae50",
        "outputId": "11abae34-6cee-4c54-cf66-8ae8dddbf63e",
        "colab": {
          "base_uri": "https://localhost:8080/"
        }
      },
      "outputs": [
        {
          "output_type": "execute_result",
          "data": {
            "text/plain": [
              "KNeighborsClassifier(n_neighbors=2)"
            ]
          },
          "metadata": {},
          "execution_count": 29
        }
      ],
      "source": [
        "model.fit(xtrain,ytrain)"
      ]
    },
    {
      "cell_type": "code",
      "execution_count": 30,
      "id": "cd79073e",
      "metadata": {
        "id": "cd79073e"
      },
      "outputs": [],
      "source": [
        "pred=model.predict(xtest)"
      ]
    },
    {
      "cell_type": "code",
      "source": [
        "pred"
      ],
      "metadata": {
        "colab": {
          "base_uri": "https://localhost:8080/"
        },
        "id": "cXfmgdLPCeb7",
        "outputId": "d468d5cd-6b31-4681-e67e-18db27b59e28"
      },
      "id": "cXfmgdLPCeb7",
      "execution_count": 34,
      "outputs": [
        {
          "output_type": "execute_result",
          "data": {
            "text/plain": [
              "array(['Aaron_Peirsol', 'Abdoulaye_Wade', 'Aaron_Peirsol', 'Abdullah',\n",
              "       'Hamza'], dtype='<U14')"
            ]
          },
          "metadata": {},
          "execution_count": 34
        }
      ]
    },
    {
      "cell_type": "code",
      "source": [
        "ytest"
      ],
      "metadata": {
        "colab": {
          "base_uri": "https://localhost:8080/"
        },
        "id": "dDgpYvq9Ch0k",
        "outputId": "229aa374-0600-4671-a41f-73e95f0e1128"
      },
      "id": "dDgpYvq9Ch0k",
      "execution_count": 35,
      "outputs": [
        {
          "output_type": "execute_result",
          "data": {
            "text/plain": [
              "array(['Aaron_Peirsol', 'Abdoulaye_Wade', 'Abdullah', 'Abel_Pacheco',\n",
              "       'Hamza'], dtype='<U14')"
            ]
          },
          "metadata": {},
          "execution_count": 35
        }
      ]
    },
    {
      "cell_type": "code",
      "execution_count": 31,
      "id": "7983bd74",
      "metadata": {
        "id": "7983bd74",
        "outputId": "fdf0fe41-1592-4918-87e3-32faa833041f",
        "colab": {
          "base_uri": "https://localhost:8080/"
        }
      },
      "outputs": [
        {
          "output_type": "execute_result",
          "data": {
            "text/plain": [
              "0.6"
            ]
          },
          "metadata": {},
          "execution_count": 31
        }
      ],
      "source": [
        "model.score(xtest,ytest)"
      ]
    },
    {
      "cell_type": "code",
      "execution_count": 32,
      "id": "c9d7efd3",
      "metadata": {
        "id": "c9d7efd3"
      },
      "outputs": [],
      "source": [
        "from sklearn.metrics import confusion_matrix"
      ]
    },
    {
      "cell_type": "code",
      "execution_count": 33,
      "id": "d7a48dfa",
      "metadata": {
        "id": "d7a48dfa",
        "outputId": "d0d5173b-ad64-4708-d2ad-aa8415bbf0fe",
        "colab": {
          "base_uri": "https://localhost:8080/",
          "height": 287
        }
      },
      "outputs": [
        {
          "output_type": "execute_result",
          "data": {
            "text/plain": [
              "<matplotlib.axes._subplots.AxesSubplot at 0x7f448dcf6b90>"
            ]
          },
          "metadata": {},
          "execution_count": 33
        },
        {
          "output_type": "display_data",
          "data": {
            "text/plain": [
              "<Figure size 432x288 with 2 Axes>"
            ],
            "image/png": "[encoded data removed]"
          },
          "metadata": {
            "needs_background": "light"
          }
        }
      ],
      "source": [
        "gp=confusion_matrix(ytest,pred)\n",
        "\n",
        "sb.heatmap(gp,annot=True,robust=True,)"
      ]
    },
    {
      "cell_type": "code",
      "source": [],
      "metadata": {
        "id": "xJ8Cbh2QCB0M"
      },
      "id": "xJ8Cbh2QCB0M",
      "execution_count": null,
      "outputs": []
    }
  ],
  "metadata": {
    "kernelspec": {
      "display_name": "Python 3 (ipykernel)",
      "language": "python",
      "name": "python3"
    },
    "language_info": {
      "codemirror_mode": {
        "name": "ipython",
        "version": 3
      },
      "file_extension": ".py",
      "mimetype": "text/x-python",
      "name": "python",
      "nbconvert_exporter": "python",
      "pygments_lexer": "ipython3",
      "version": "3.10.4"
    },
    "colab": {
      "provenance": [],
      "include_colab_link": true
    }
  },
  "nbformat": 4,
  "nbformat_minor": 5
}